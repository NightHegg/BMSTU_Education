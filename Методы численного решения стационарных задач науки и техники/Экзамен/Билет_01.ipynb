{
 "cells": [
  {
   "cell_type": "markdown",
   "metadata": {},
   "source": [
    "# Билет 1"
   ]
  },
  {
   "cell_type": "markdown",
   "metadata": {},
   "source": [
    "Понятие эллиптического ДУ в частых производных на решении в точке и в\n",
    "области. Критерий эллиптичности линейного ДУ в частных производных второго\n",
    "порядка. Эллиптичность бигармонического уравнения. Основные краевые задачи\n",
    "для эллиптического уравнения. Понятие эллиптической системы ДУ в частных\n",
    "производных. Эллиптичность системы уравнения теории упругости."
   ]
  },
  {
   "cell_type": "markdown",
   "metadata": {},
   "source": [
    "### Понятие эллиптического ДУ в частых производных на решении в точке и в области"
   ]
  },
  {
   "cell_type": "markdown",
   "metadata": {},
   "source": [
    "Дифференциальным уравнением в частных производных в области $D$ порядка $m \\geq 1$ называется равенство вида\n",
    "\\begin{equation}\\label{DUequation}\n",
    "F(x,\\ldots, \\dfrac{\\partial^{(\\alpha)} u}{\\partial^{\\alpha_1} x_1 \\ldots \\partial^{\\alpha_n}} x_n) = 0, \\quad x \\in D \\quad (1)\n",
    "\\end{equation}\n",
    "\n",
    "Дифференциальное уравнение в частных производных (1) называется эллиптическим на решении $u(x)$ в точке $x\\in D$, если $k(\\lambda) = 0 \\Leftrightarrow  \\lambda = 0$.\n",
    "\n",
    "Дифференциальное уравнение (1) в области $D$, если оно эллиптическое на решении $u(x)$ в каждой точке этой области."
   ]
  },
  {
   "cell_type": "markdown",
   "metadata": {},
   "source": [
    "### Критерий эллиптичности линейного ДУ в частных производных второго порядка"
   ]
  },
  {
   "cell_type": "markdown",
   "metadata": {},
   "source": [
    "Рассмотрим уравнение \n",
    "\n",
    "\\begin{equation}\\label{equation}\n",
    "\\sum_{i, j =1}^{n} A_{ij} (x) \\dfrac{\\partial^2 u}{\\partial x_i \\partial x_j} + \\sum_{i=1}^{n} B_{i} (x) \\dfrac{\\partial u}{\\partial x_i} + C(x) u = f(x), \\quad x \\in D, \\quad (2)\n",
    "\\end{equation}\n",
    "\n",
    "где $A_{ij}, B_i, C, f: D \\rightarrow R$ - заданные функции. \n",
    "Тогда $F(x,\\ldots,p_{\\alpha},\\ldots) = \\sum_{i, j =1}^{n} A_{ij} (x) p_{ij} + \\sum_{i=1}^{n} B_{i} (x) p_i + C p_0 - f$, характеристическая форма уравнения (2) $k(\\lambda) = \\left \\langle A\\lambda, \\lambda \\right \\rangle, A = \\left [  A_{ij} \\right ], \\quad 1\\leq i, j \\leq n$.\n",
    "\n",
    "Уравнение (2) эллиптично в точке $x \\in D \\Leftrightarrow$ квадратичная форма $\\left | A\\lambda \\right | = \\left \\langle Ax\\lambda, \\lambda \\right \\rangle$ либо положительна (то есть $\\left \\langle A(x)\\lambda, \\lambda \\right \\rangle > 0 \\forall \\lambda \\neq 0$), либо отрицательна (то есть $\\left \\langle A(x)\\lambda, \\lambda \\right \\rangle < 0 \\forall \\lambda \\neq 0$)."
   ]
  },
  {
   "cell_type": "markdown",
   "metadata": {},
   "source": [
    "### Эллиптичность бигармонического уравнения"
   ]
  },
  {
   "cell_type": "markdown",
   "metadata": {},
   "source": [
    "\\begin{equation}\n",
    "\\dfrac{\\partial^4 u}{\\partial x^4_1} + 2\\dfrac{\\partial^4 u}{\\partial x^2_1 \\partial x^2_2} + \\dfrac{\\partial^4 u}{\\partial x^4_2} = f(x_1, x_2), \\quad (x_1, x_2) \\in D \\subseteq R^2 -\n",
    "\\end{equation}\n",
    "\n",
    "называется бигармоническим уравнением. Здесь $n=2, f D \\rightarrow D$ - задана. Ищем для характеристической формы:\n",
    "\n",
    "\\begin{equation}\n",
    "k(\\lambda_1, \\lambda_2) = \\lambda_1^4 + 2 \\lambda_1^2 \\lambda_2^2 + \\lambda_2^4 - (\\lambda_1^2 + \\lambda_2^2)^2 = 0 \\leftrightarrow \\lambda = 0 \n",
    "\\end{equation}\n",
    "\n",
    "Поэтому бигармоническое уравнение является эллиптическим в области $D$ на любом своём решении."
   ]
  },
  {
   "cell_type": "markdown",
   "metadata": {},
   "source": [
    "### Основные краевые задачи для эллиптического уравнения"
   ]
  },
  {
   "cell_type": "markdown",
   "metadata": {},
   "source": [
    "\\begin{equation}\\label{equationDiv}\n",
    "div(\\varkappa (x) \\nabla u) = -f(x), \\quad x \\in D \\subseteq R^3 \\quad (3)\n",
    "\\end{equation}\n",
    "\n",
    "$\\varkappa(x) = \\left [ \\varkappa_i, (x) \\right ] 1 \\leq i, j \\leq 3$ - тензор теплопроводности.\n",
    "\n",
    "$\\varkappa_{ij} : f: D \\rightarrow R$ - заданы $D$ - область к кусочно-гладкой границе.\n",
    "\n",
    "Три типа краевых условий:\n",
    "1. $u|_{\\partial D} = g$\n",
    "2. $(\\varkappa \\nabla u, \\bar{n})|_{\\partial D} = g$\n",
    "3. $(\\varkappa \\nabla u, \\bar{n})|_{\\partial D} = ku + g$\n",
    "\n",
    "Здесь $\\bar{n}$ - внешняя нормаль к $\\partial D$, $k, g \\quad \\partial D \\rightarrow R$ - заданные функции. Обычно $\\left \\langle \\nabla u, \\bar{n} \\right \\rangle \\rightarrow \\dfrac{\\partial T}{\\partial \\bar{n}}$. Получаем 3 краевых задачи:\n",
    "1. Задача Дирихле, найти решение $u(x)$ уравнения (3), удовлетворяющее условию 1 на границе $\\partial D$.\n",
    "2. Задача Неймана, найти решение $u(x)$ уравнения (3), удовлетворяющее условию 2 на границе $\\partial D$.\n",
    "3. Найти решение $u(x)$ уравнения (3), удовлетворяющее условию 3 на границе $\\partial D$."
   ]
  },
  {
   "cell_type": "markdown",
   "metadata": {},
   "source": [
    "### Понятие эллиптической системы ДУ в частных производных"
   ]
  },
  {
   "cell_type": "markdown",
   "metadata": {},
   "source": [
    "Пусть есть система $N$ уравнений в частных производных относительно $N$ функций $u_1,\\ldots,u_N : D \\rightarrow R, D \\subseteq R^n$\n",
    "\\begin{aligned}\n",
    "F_1(x,\\ldots,p_\\alpha^1,\\ldots,p_\\alpha^N,\\ldots) = 0 \\\\\n",
    "F_2(x,\\ldots,p_\\alpha^1,\\ldots,p_\\alpha^N,\\ldots) = 0 \\\\\n",
    "\\ldots \\\\\n",
    "F_N(x,\\ldots,p_\\alpha^1,\\ldots,p_\\alpha^N,\\ldots) = 0,\n",
    "\\end{aligned}\n",
    "\n",
    "где $\\left | \\alpha \\right | \\leq m$. Данная система называется эллиптической на решении $u_1,\\ldots,u_N \\in C^m(D)$ в точке $x \\in D$, если характеристическая форма системы $k(\\lambda) = det \\sum_{\\left | \\alpha \\right | = m} \\left [ \\dfrac{\\partial F_i}{\\partial p_\\alpha^j} \\right ] \\lambda^\\alpha$ удовлетворяет на решении $u_1,\\ldots,u_N$ в точке $x \\in D$ условию $k(\\lambda) = 0 \\leftrightarrow \\lambda = 0$. Характеристическая форма $k(\\lambda)$ является однородной по $\\lambda$ функцией порядка $N_m : k(t\\lambda) = t^{N_m} k(\\lambda)$.\n",
    "\n",
    "Данная система называется эллиптической на решении $u_1,\\ldots,u_N \\in C^m(D)$ в области $D$, если она эллиптична на этом решении в каждой точке $D$."
   ]
  },
  {
   "cell_type": "markdown",
   "metadata": {},
   "source": [
    "### Эллиптичность системы уравнения теории упругости"
   ]
  },
  {
   "cell_type": "markdown",
   "metadata": {},
   "source": [
    "Рассмотрим систему ДУ в частных производных относительно трёх функций $u_1, u_2, u_3$. \n",
    "\n",
    "$\\bar{u} = (u_1, u_2, u_3)$\n",
    "\n",
    "$\\mu \\Delta \\bar{u} + (\\varkappa + \\mu) \\nabla div \\bar{u} + \\bar{f}(x) = 0$\n",
    "\n",
    "Характеристическое уравнение $k(\\lambda) = 0 \\leftrightarrow \\lambda = 0$ выполнено, если $\\varkappa + \\mu \\neq 0$, $1 + \\dfrac{\\mu}{\\varkappa + \\mu} \\neq 0$, $\\mu \\neq 0$. При этих условиях (обычно выполнены) система уравнений теории упругости эллиптична на любом своём решении всюду в области $D$."
   ]
  },
  {
   "cell_type": "markdown",
   "metadata": {},
   "source": [
    "**Важно!**\n",
    "Нужно ли для эллиптичности системы уравнений теории упругости расписывать нахождения условия эллиптичности?"
   ]
  },
  {
   "cell_type": "code",
   "execution_count": null,
   "metadata": {},
   "outputs": [],
   "source": []
  }
 ],
 "metadata": {
  "kernelspec": {
   "display_name": "Python 3",
   "language": "python",
   "name": "python3"
  },
  "language_info": {
   "codemirror_mode": {
    "name": "ipython",
    "version": 3
   },
   "file_extension": ".py",
   "mimetype": "text/x-python",
   "name": "python",
   "nbconvert_exporter": "python",
   "pygments_lexer": "ipython3",
   "version": "3.8.3"
  }
 },
 "nbformat": 4,
 "nbformat_minor": 4
}
