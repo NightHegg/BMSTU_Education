{
 "cells": [
  {
   "cell_type": "markdown",
   "metadata": {},
   "source": [
    "# Домашнее задание по курсу \"Методы численного решения задач линейной алгебры\""
   ]
  },
  {
   "cell_type": "code",
   "execution_count": 1,
   "metadata": {},
   "outputs": [],
   "source": [
    "N_var = 3"
   ]
  },
  {
   "cell_type": "markdown",
   "metadata": {},
   "source": [
    "Выполнил: студент группы ФН2-32М Матвеев Михаил\n",
    "\n",
    "Номер варианта (номер в списке в журнале) : 3"
   ]
  },
  {
   "cell_type": "markdown",
   "metadata": {},
   "source": [
    "## Постановка задачи"
   ]
  },
  {
   "cell_type": "markdown",
   "metadata": {},
   "source": [
    "Нужно сформировать матрицу размером 10х10 по следующему принципу. В качестве базовой матрицы берется известная матрица, которая получается после дискретизации одномерного оператора Лапласа методом конечных разностей или методом конечных элементов на равномерной сетке:\n",
    "\\begin{equation*}\n",
    "A_0 = \n",
    "\\begin{pmatrix}\n",
    "2 & -1 & 0 & 0 & \\cdots & \\cdots & \\cdots & \\cdots & 0 \\\\\n",
    "-1 & 2 & -1 & 0 & \\cdots & \\cdots & \\cdots & \\cdots & 0 \\\\\n",
    "0 & -1 & 2 & -1 & \\cdots & \\cdots & \\cdots & \\cdots & 0 \\\\\n",
    " &  &  &  & \\ddots &  &  &  &  \\\\\n",
    "0 & \\cdots & \\cdots & \\cdots & \\cdots & -1 & 2 & -1 & 0 \\\\\n",
    "0 & \\cdots & \\cdots & \\cdots & \\cdots & 0 & -1 & 2 & -1 \\\\\n",
    "0 & \\cdots & \\cdots & \\cdots & \\cdots & 0 & 0 & 2 & -1 \\\\\n",
    "\\end{pmatrix}\n",
    "\\end{equation*}"
   ]
  },
  {
   "cell_type": "markdown",
   "metadata": {},
   "source": [
    "Для данной матрицы известны аналитические формулы для собственных значений (n=10):\n",
    "\\begin{equation*}\n",
    "\\lambda^{0}_j = 2(1-\\cos(\\frac{\\pi j}{n + 1})), \\quad j = 1, \\ldots, n\n",
    "\\end{equation*}\n",
    "и компонент собственных векторов (вектора имеют 2-норму равную 1):\n",
    "\\begin{equation*}\n",
    "z^{0}_j(k) = \\sqrt{\\frac{2}{n + 1}}\\sin(\\frac{\\pi j k}{n + 1}), \\quad k = 1, \\ldots, n\n",
    "\\end{equation*}\n",
    "Итоговая матрица получается по формулам:\n",
    "\\begin{equation*}\n",
    "A = A_0 + \\delta A,\n",
    "\\end{equation*}\n",
    "\n",
    "\n",
    "\\begin{equation*}\n",
    "\\delta A_{ij} = \n",
    "\\left\\{\\begin{matrix}\n",
    "\\dfrac{c}{i + j}, & i \\neq j \\\\ \n",
    "0 & i = j\n",
    "\\end{matrix}\\right.,\n",
    "\\end{equation*}\n",
    "\n",
    "\\begin{equation*}\n",
    "c = \\frac{N_{var}}{N_{var} + 1}\\varepsilon,\n",
    "\\end{equation*}\n",
    "\n",
    "где $N_{var}$ - номер варианта (совпадает с номером студента в списке в журнале группы), $\\varepsilon$  - параметр, значение которого задается далее."
   ]
  },
  {
   "cell_type": "markdown",
   "metadata": {},
   "source": [
    "## Подготовка к выполнению заданий"
   ]
  },
  {
   "cell_type": "markdown",
   "metadata": {},
   "source": [
    "### Импорт необходимых библиотек"
   ]
  },
  {
   "cell_type": "code",
   "execution_count": 2,
   "metadata": {},
   "outputs": [],
   "source": [
    "import numpy as np\n",
    "import pandas as pd"
   ]
  },
  {
   "cell_type": "markdown",
   "metadata": {},
   "source": [
    "### Создание матрицы $A_0$"
   ]
  },
  {
   "cell_type": "code",
   "execution_count": 3,
   "metadata": {},
   "outputs": [],
   "source": [
    "A_0 = np.identity(10) * 2 + np.eye(10, 10, k = -1) * -1 + np.eye(10, 10, k = 1) * -1"
   ]
  },
  {
   "cell_type": "markdown",
   "metadata": {},
   "source": [
    "### Код создания матрицы $\\delta A$"
   ]
  },
  {
   "cell_type": "code",
   "execution_count": 4,
   "metadata": {},
   "outputs": [],
   "source": [
    "def construct_delta_A(N_var, eps):\n",
    "    \"\"\"\n",
    "    Алгоритм получения матрицы delta_A\n",
    "    Ввод: \n",
    "    N_var - номер варианта\n",
    "    eps - параметр\n",
    "    Вывод:\n",
    "    delta_A\n",
    "    \"\"\"\n",
    "    par = 10\n",
    "    delta_A = []\n",
    "    c = N_var * eps / (N_var + 1)\n",
    "    for i in range(par):\n",
    "        temp = []\n",
    "        for j in range(par):\n",
    "            temp.append(0 if i == j else c / (i + j))\n",
    "        delta_A.append(temp)\n",
    "    return np.array(delta_A)"
   ]
  },
  {
   "cell_type": "markdown",
   "metadata": {},
   "source": [
    "## Задание №1"
   ]
  },
  {
   "cell_type": "markdown",
   "metadata": {},
   "source": [
    "Взять матрицу A  для значения $\\varepsilon = 0.1$ , убрать последний столбец и сформировать из первых 9 столбцов матрицу $\\hat{A}$  размера 10х9. Решить линейную задачу наименьших квадратов для вектора невязки\n",
    "\\begin{equation*}\n",
    "r = \\hat{A} x - b,\n",
    "\\end{equation*}\n",
    "\n",
    "где вектор b размерности 10х1 нужно получить по следующему алгоритму: выбрать вектор $x_0$  размерности 9х1 и для него вычислить $b = \\hat{A} x_0$.\n",
    "\n",
    "Для решения поставленной задачи использовать QR разложение: для вариантов с четным номером использовать соответствующий алгоритм, основанный на методе вращений Гивенса, для вариантов с нечетным номером – алгоритм, основанный на методе отражений Хаусхолдера. \n",
    "После получения решения сделать оценку величины $\\dfrac{\\left \\| x - x_0 \\right \\|_{2}} {\\left \\| x_0 \\right \\|_{2}}$.\n"
   ]
  },
  {
   "cell_type": "code",
   "execution_count": 5,
   "metadata": {},
   "outputs": [],
   "source": [
    "eps = 0.1"
   ]
  },
  {
   "cell_type": "markdown",
   "metadata": {},
   "source": [
    "### Метод отражений Хаусхолдера"
   ]
  },
  {
   "cell_type": "markdown",
   "metadata": {},
   "source": [
    "#### Описание метода\n",
    "Преобразованием Хаусхолдера (или отражением) называется матрица вида $P = I - 2 u u^{T}$, где вектор $u$ называется вектором Хаусхолдера и его норма $\\left \\| u \\right \\|_2$ = 1. \n",
    "\n",
    "Пусть дан вектор $x$. Тогда легко найти отражение $P = I - 2uu^T$, аннулирующее в векторе $x$ все компоненты, кроме первой: $Px = \\left [c, 0, \\ldots,0  \\right ]^T = c \\cdot e_1$. По итогу, вектор Хауслендера вычисляется по формуле:\n",
    "\\begin{equation*}\n",
    "u = x + sign(x_1) \\left \\| x \\right \\|_2 e_1\n",
    "\\end{equation*}"
   ]
  },
  {
   "cell_type": "markdown",
   "metadata": {},
   "source": [
    "#### Описание алгоритма\n",
    "\n",
    "for i in range(n):\n",
    "1. подготавливем матрицу P_i (единичная матрица размера m x m, где m - количество строк)\n",
    "2. в начале каждой итерации выбираем столбец матрицы A (не весь столбец, а все элементы ниже диагонали и диагональный) в качестве вектора x\n",
    "3. применяем к вектору x метод house для получения вектора Хаусхолдера размера m - i\n",
    "4. получаем матрицу P_streak размера m - i x m - i\n",
    "5. добавляем матрицу P_streak в матрицу P_i\n",
    "6. перемножаем матрицы P_i и R для получения матрицы A_i, у которой под элементом (i, i) - нулевые элементы \n",
    "7. домножаем матрицу Q на матрицу P_i (для получения в конце итоговой матрицы Q)\n",
    "\n",
    "end for"
   ]
  },
  {
   "cell_type": "markdown",
   "metadata": {},
   "source": [
    "#### Код алгоритма"
   ]
  },
  {
   "cell_type": "code",
   "execution_count": 175,
   "metadata": {},
   "outputs": [],
   "source": [
    "def house(x):\n",
    "    u_tilde = np.copy(x)\n",
    "    u_tilde[0] += np.sign(x[0]) * np.linalg.norm(x)\n",
    "    return u_tilde / np.linalg.norm(u_tilde)\n",
    "\n",
    "def qr_householder(A):\n",
    "    m, n = A.shape\n",
    "    Q = np.identity(m)\n",
    "    R = np.copy(A)\n",
    "    for i in range(n):\n",
    "        P_i         = np.identity(m) ## 1\n",
    "        x           = R[i:, i] ## 2\n",
    "        u           = house(x) ## 3\n",
    "        P_streak    = np.identity(m - i) - 2 * np.outer(u, u) ## 4\n",
    "        P_i[i:, i:] = np.copy(P_streak) ## 5\n",
    "        R           = np.dot(P_i, R) ## 6\n",
    "        Q           = Q @ P_i ## 7\n",
    "    return Q[:, :n], R[:n, :] ## Обрезаем для матрицы Q (m-n) столбцов, для матрицы R - (m-n) строк\n",
    "\n",
    "def qr_householder_effective(A):\n",
    "    A_temp = np.copy(A)\n",
    "    l = []\n",
    "    m, n = A.shape\n",
    "    for i in range(n):\n",
    "        x           = A_temp[i:, i] ## 2\n",
    "        u           = house(x) ## 3\n",
    "        A_temp[i:m, i:n] -= 2 * np.outer(u, np.matmul(u, A_temp[i:m, i:n]))\n",
    "        A_temp[i + 1:m, i] = u[1:]\n",
    "        l.append(u[0])\n",
    "    return A_temp, l"
   ]
  },
  {
   "cell_type": "markdown",
   "metadata": {},
   "source": [
    "### Решение задачи"
   ]
  },
  {
   "cell_type": "code",
   "execution_count": 186,
   "metadata": {},
   "outputs": [],
   "source": [
    "delta_A = construct_delta_A(N_var, 0.1)\n",
    "A = A_0 + delta_A\n",
    "\n",
    "amnt_columns = 2\n",
    "A_hat = np.delete(A, [9 - i for i in range(amnt_columns)], axis = 1).round(2)\n",
    "x_0 = np.random.rand(10 - amnt_columns) # Выберем случайный вектор x_0\n",
    "b = np.dot(A_hat, x_0)\n",
    "b_effective = np.copy(b)\n",
    "\n",
    "Q, R = qr_householder(A_hat)\n",
    "A_effective, u_first_elements = qr_householder_effective(A_hat)\n",
    "\n",
    "for i in range(10 - amnt_columns):\n",
    "    u = np.hstack((u_first_elements[i],A_effective[i + 1:, i]))\n",
    "    gamma = -2 * np.inner(u, b_effective[i:])\n",
    "    b_effective[i:] += gamma * u\n",
    "\n",
    "assert ((Q @ R - A_hat) < 1e-6).all(), \"QR разложение неправильное\"\n",
    "\n",
    "x = np.dot(np.linalg.inv(R) @ Q.T, b) # Решаем линейную задачу наименьших квадратов\n",
    "x_effective = np.dot(np.linalg.inv(np.triu(A_effective[:-amnt_columns])), b_effective[:-amnt_columns])\n",
    "\n",
    "value_estimation = np.linalg.norm(x - x_0) / np.linalg.norm(x_0) # Относительная погрешность\n",
    "result = (f\"Решение было получено. \\n\"\n",
    "          f\"x_0                       = {[round(i, 4) for i in x_0]} \\n\"\n",
    "          f\"Найдённое решение x       = {[round(i, 4) for i in x]} \\n\"\n",
    "          f\"Эффективное решение x     = {[round(i, 4) for i in x_effective]} \\n\"\n",
    "          f\"Относительная погрешность = {value_estimation:.4e}\")"
   ]
  },
  {
   "cell_type": "markdown",
   "metadata": {},
   "source": [
    "### Результаты расчётов"
   ]
  },
  {
   "cell_type": "code",
   "execution_count": 187,
   "metadata": {},
   "outputs": [
    {
     "name": "stdout",
     "output_type": "stream",
     "text": [
      "Решение было получено. \n",
      "x_0                       = [0.7757, 0.8329, 0.2138, 0.469, 0.5086, 0.8021, 0.8877, 0.6029] \n",
      "Найдённое решение x       = [0.7757, 0.8329, 0.2138, 0.469, 0.5086, 0.8021, 0.8877, 0.6029] \n",
      "Эффективное решение x     = [0.7757, 0.8329, 0.2138, 0.469, 0.5086, 0.8021, 0.8877, 0.6029] \n",
      "Относительная погрешность = 6.1524e-16\n"
     ]
    }
   ],
   "source": [
    "print(result)"
   ]
  },
  {
   "cell_type": "markdown",
   "metadata": {},
   "source": [
    "## Задание №2"
   ]
  },
  {
   "cell_type": "markdown",
   "metadata": {},
   "source": [
    "Для матрицы $A$ найти все ее собственные значения ($\\lambda_j, \\quad j = 1,\\ldots, 10$) и собственные вектора ($z_j$ , с 2-нормой равной 1) с помощью неявного QR-алгоритма со сдвигом для трех вариантов: $\\varepsilon = 10^{-1}, 10^{-3}, 10^{-6}$. \n",
    "\n",
    "По итогам расчетов нужно сделать сводную таблицу, в которой указать следующие величины: $\\left | \\lambda_j - \\lambda_j^{0}  \\right |$ и $\\left \\| z_j - z_j^{0} \\right \\|$  для $j = 1,\\ldots,10$ ."
   ]
  },
  {
   "cell_type": "code",
   "execution_count": 37,
   "metadata": {},
   "outputs": [],
   "source": [
    "eps = [1e-1, 1e-3, 1e-6]"
   ]
  }
 ],
 "metadata": {
  "kernelspec": {
   "display_name": "Python 3",
   "language": "python",
   "name": "python3"
  },
  "language_info": {
   "codemirror_mode": {
    "name": "ipython",
    "version": 3
   },
   "file_extension": ".py",
   "mimetype": "text/x-python",
   "name": "python",
   "nbconvert_exporter": "python",
   "pygments_lexer": "ipython3",
   "version": "3.8.3"
  }
 },
 "nbformat": 4,
 "nbformat_minor": 4
}
