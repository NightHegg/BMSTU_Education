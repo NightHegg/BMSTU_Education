{
 "cells": [
  {
   "cell_type": "code",
   "execution_count": 10,
   "metadata": {},
   "outputs": [],
   "source": [
    "N_var = 3"
   ]
  },
  {
   "cell_type": "code",
   "execution_count": 11,
   "metadata": {},
   "outputs": [],
   "source": [
    "import numpy as np\n",
    "import pandas as pd"
   ]
  },
  {
   "cell_type": "code",
   "execution_count": 12,
   "metadata": {},
   "outputs": [],
   "source": [
    "A_0 = np.identity(10) * 2 + np.eye(10, 10, k = -1) * -1 + np.eye(10, 10, k = 1) * -1"
   ]
  },
  {
   "cell_type": "code",
   "execution_count": 13,
   "metadata": {},
   "outputs": [],
   "source": [
    "def construct_delta_A(N_var, eps):\n",
    "    \"\"\"\n",
    "    Алгоритм получения матрицы delta_A\n",
    "    Ввод: \n",
    "    N_var - номер варианта\n",
    "    eps - параметр\n",
    "    Вывод:\n",
    "    delta_A\n",
    "    \"\"\"\n",
    "    par = 10\n",
    "    delta_A = []\n",
    "    c = N_var * eps / (N_var + 1)\n",
    "    for i in range(par):\n",
    "        temp = []\n",
    "        for j in range(par):\n",
    "            temp.append(0 if i == j else c / (i + j))\n",
    "        delta_A.append(temp)\n",
    "    return np.array(delta_A)"
   ]
  },
  {
   "cell_type": "code",
   "execution_count": 14,
   "metadata": {},
   "outputs": [],
   "source": [
    "eps = 0.1"
   ]
  },
  {
   "cell_type": "code",
   "execution_count": 15,
   "metadata": {},
   "outputs": [],
   "source": [
    "def house(x):\n",
    "    u_tilde = np.copy(x)\n",
    "    u_tilde[0] += np.sign(x[0]) * np.linalg.norm(x)\n",
    "    return u_tilde / np.linalg.norm(u_tilde)\n",
    "\n",
    "def qr_householder(A):\n",
    "    m, n = A.shape\n",
    "    Q = np.identity(m)\n",
    "    R = np.copy(A)\n",
    "    for i in range(n):\n",
    "        P_i         = np.identity(m) ## 1\n",
    "        x           = R[i:, i] ## 2\n",
    "        u           = house(x) ## 3\n",
    "        P_streak    = np.identity(m - i) - 2 * np.outer(u, u) ## 4\n",
    "        P_i[i:, i:] = np.copy(P_streak) ## 5\n",
    "        R           = np.dot(P_i, R) ## 6\n",
    "        Q           = Q @ P_i ## 7\n",
    "    return Q[:, :n], R[:n, :] ## Обрезаем для матрицы Q (m-n) столбцов, для матрицы R - (m-n) строк\n",
    "\n",
    "def qr_householder_effective(A):\n",
    "    A_temp = np.copy(A)\n",
    "    l = []\n",
    "    m, n = A.shape\n",
    "    for i in range(n):\n",
    "        x                  = A_temp[i:, i] \n",
    "        u                  = house(x) \n",
    "        A_temp[i:m, i:n]  -= 2 * np.outer(u, np.matmul(u, A_temp[i:m, i:n]))\n",
    "        A_temp[i + 1:m, i] = u[1:]\n",
    "        l.append(u[0])\n",
    "    return A_temp, l"
   ]
  },
  {
   "cell_type": "markdown",
   "metadata": {},
   "source": [
    "### Решение задачи"
   ]
  },
  {
   "cell_type": "code",
   "execution_count": 16,
   "metadata": {},
   "outputs": [],
   "source": [
    "delta_A = construct_delta_A(N_var, 0.1)\n",
    "A = A_0 + delta_A\n",
    "\n",
    "amnt_columns = 1 # Количество удаляемых столбцов\n",
    "A_hat = np.delete(A, [9 - i for i in range(amnt_columns)], axis = 1).round(2)\n",
    "x_0 = np.random.rand(10 - amnt_columns) # Выберем случайный вектор x_0\n",
    "b = np.dot(A_hat, x_0)\n",
    "b_effective = np.copy(b)\n",
    "\n",
    "Q, R = qr_householder(A_hat)\n",
    "A_effective, u_first_elements = qr_householder_effective(A_hat)\n",
    "\n",
    "for i in range(10 - amnt_columns):\n",
    "    u = np.hstack((u_first_elements[i],A_effective[i + 1:, i]))\n",
    "    gamma = -2 * np.inner(u, b_effective[i:])\n",
    "    b_effective[i:] += gamma * u\n",
    "\n",
    "assert ((Q @ R - A_hat) < 1e-6).all(), \"QR разложение неправильное\"\n",
    "\n",
    "x = np.dot(np.linalg.inv(R) @ Q.T, b) # Решаем линейную задачу наименьших квадратов\n",
    "x_effective = np.dot(np.linalg.inv(np.triu(A_effective[:-amnt_columns])), b_effective[:-amnt_columns])\n",
    "\n",
    "value_estimation = np.linalg.norm(x - x_0) / np.linalg.norm(x_0) # Относительная погрешность\n",
    "result = (f\"Решение было получено. \\n\"\n",
    "          f\"x_0                       = {[round(i, 4) for i in x_0]} \\n\"\n",
    "          f\"Найдённое решение x       = {[round(i, 4) for i in x]} \\n\"\n",
    "          f\"Эффективное решение x     = {[round(i, 4) for i in x_effective]} \\n\"\n",
    "          f\"Относительная погрешность = {value_estimation:.4e}\")"
   ]
  },
  {
   "cell_type": "markdown",
   "metadata": {},
   "source": [
    "### Результаты расчётов"
   ]
  },
  {
   "cell_type": "code",
   "execution_count": 17,
   "metadata": {},
   "outputs": [
    {
     "name": "stdout",
     "output_type": "stream",
     "text": [
      "Решение было получено. \n",
      "x_0                       = [0.3077, 0.3567, 0.2158, 0.6656, 0.1888, 0.921, 0.1381, 0.2263, 0.5892] \n",
      "Найдённое решение x       = [0.3077, 0.3567, 0.2158, 0.6656, 0.1888, 0.921, 0.1381, 0.2263, 0.5892] \n",
      "Эффективное решение x     = [0.3077, 0.3567, 0.2158, 0.6656, 0.1888, 0.921, 0.1381, 0.2263, 0.5892] \n",
      "Относительная погрешность = 3.9321e-16\n"
     ]
    }
   ],
   "source": [
    "print(result)"
   ]
  },
  {
   "cell_type": "markdown",
   "metadata": {},
   "source": [
    "## Задание №2"
   ]
  },
  {
   "cell_type": "markdown",
   "metadata": {},
   "source": [
    "Для матрицы $A$ найти все ее собственные значения ($\\lambda_j, \\quad j = 1,\\ldots, 10$) и собственные вектора ($z_j$ , с 2-нормой равной 1) с помощью неявного QR-алгоритма со сдвигом для трех вариантов: $\\varepsilon = 10^{-1}, 10^{-3}, 10^{-6}$. \n",
    "\n",
    "По итогам расчетов нужно сделать сводную таблицу, в которой указать следующие величины: $\\left | \\lambda_j - \\lambda_j^{0}  \\right |$ и $\\left \\| z_j - z_j^{0} \\right \\|$  для $j = 1,\\ldots,10$ ."
   ]
  },
  {
   "cell_type": "code",
   "execution_count": 18,
   "metadata": {},
   "outputs": [],
   "source": [
    "eps = [1e-1, 1e-3, 1e-6]"
   ]
  }
 ],
 "metadata": {
  "kernelspec": {
   "display_name": "Python 3",
   "language": "python",
   "name": "python3"
  },
  "language_info": {
   "codemirror_mode": {
    "name": "ipython",
    "version": 3
   },
   "file_extension": ".py",
   "mimetype": "text/x-python",
   "name": "python",
   "nbconvert_exporter": "python",
   "pygments_lexer": "ipython3",
   "version": "3.8.3"
  }
 },
 "nbformat": 4,
 "nbformat_minor": 4
}
